{
  "nbformat": 4,
  "nbformat_minor": 0,
  "metadata": {
    "colab": {
      "name": "Data.ipynb",
      "provenance": [],
      "collapsed_sections": [],
      "authorship_tag": "ABX9TyMBrB1lEsuClD8/lyhp3CwG",
      "include_colab_link": true
    },
    "kernelspec": {
      "name": "python3",
      "display_name": "Python 3"
    },
    "language_info": {
      "name": "python"
    }
  },
  "cells": [
    {
      "cell_type": "markdown",
      "metadata": {
        "id": "view-in-github",
        "colab_type": "text"
      },
      "source": [
        "<a href=\"https://colab.research.google.com/github/Mik3Mu/group-5-carbon-food-print/blob/main/Data.ipynb\" target=\"_parent\"><img src=\"https://colab.research.google.com/assets/colab-badge.svg\" alt=\"Open In Colab\"/></a>"
      ]
    },
    {
      "cell_type": "code",
      "execution_count": null,
      "metadata": {
        "colab": {
          "base_uri": "https://localhost:8080/"
        },
        "id": "nfR3oHwCHAl5",
        "outputId": "6c2b1356-2c6f-4181-8f9b-c90950499a1e"
      },
      "outputs": [
        {
          "output_type": "stream",
          "name": "stdout",
          "text": [
            "           food_product  ...  scarcity_weighted_water_use_liters_per_1000kcal\n",
            "0   Wheat & Rye (Bread)  ...                                              NaN\n",
            "1          Maize (Meal)  ...                                              NaN\n",
            "2         Barley (Beer)  ...                                              NaN\n",
            "3               Oatmeal  ...                                      7162.104461\n",
            "4                  Rice  ...                                     13449.891480\n",
            "5              Potatoes  ...                                      3762.568306\n",
            "6               Cassava  ...                                              NaN\n",
            "7            Cane Sugar  ...                                      4683.361823\n",
            "8            Beet Sugar  ...                                      2704.643875\n",
            "9          Other Pulses  ...                                              NaN\n",
            "10                 Peas  ...                                              NaN\n",
            "11                 Nuts  ...                                     37380.455280\n",
            "12           Groundnuts  ...                                     10654.810340\n",
            "13              Soymilk  ...                                              NaN\n",
            "14                 Tofu  ...                                              NaN\n",
            "15          Soybean Oil  ...                                              NaN\n",
            "16             Palm Oil  ...                                         4.095023\n",
            "17        Sunflower Oil  ...                                      4114.185520\n",
            "18         Rapeseed Oil  ...                                      1198.382353\n",
            "19            Olive Oil  ...                                     20076.945700\n",
            "20             Tomatoes  ...                                     28082.631580\n",
            "21       Onions & Leeks  ...                                      2518.918919\n",
            "22      Root Vegetables  ...                                      2511.351351\n",
            "23            Brassicas  ...                                     49735.882350\n",
            "24     Other Vegetables  ...                                              NaN\n",
            "25         Citrus Fruit  ...                                     14570.937500\n",
            "26              Bananas  ...                                      1103.166667\n",
            "27               Apples  ...                                     26976.250000\n",
            "28     Berries & Grapes  ...                                     37126.491230\n",
            "29                 Wine  ...                                              NaN\n",
            "30          Other Fruit  ...                                              NaN\n",
            "31               Coffee  ...                                       601.785714\n",
            "32       Dark Chocolate  ...                                       556.905222\n",
            "33     Beef (beef herd)  ...                                     12722.527470\n",
            "34    Beef (dairy herd)  ...                                     43884.688640\n",
            "35        Lamb & Mutton  ...                                     44771.293380\n",
            "36             Pig Meat  ...                                     27977.991630\n",
            "37         Poultry Meat  ...                                      7663.729730\n",
            "38                 Milk  ...                                     32977.166670\n",
            "39               Cheese  ...                                     46731.421190\n",
            "40                 Eggs  ...                                     12487.986110\n",
            "41        Fish (farmed)  ...                                     23224.692740\n",
            "42     Shrimps (farmed)  ...                                              NaN\n",
            "\n",
            "[43 rows x 23 columns]\n"
          ]
        }
      ],
      "source": [
        "# Import Pandas\n",
        "import pandas as pd\n",
        "\n",
        "#data file on Github\n",
        "url = \"https://raw.githubusercontent.com/Mik3Mu/group-5-carbon-food-print/main/food_production.csv?token=GHSAT0AAAAAABQTV5FIMJHCPJOSR3TZM6E4YPVRPBQ\"\n",
        "\n",
        "df = pd.read_csv(url)\n",
        "\n",
        "print(df)\n"
      ]
    },
    {
      "cell_type": "code",
      "source": [
        "#Placeholder for filtering and analyzing the data"
      ],
      "metadata": {
        "id": "WJ2sDxxOJZBH"
      },
      "execution_count": null,
      "outputs": []
    }
  ]
}